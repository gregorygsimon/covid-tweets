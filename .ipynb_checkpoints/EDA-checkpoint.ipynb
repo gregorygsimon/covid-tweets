{
 "cells": [
  {
   "cell_type": "markdown",
   "metadata": {},
   "source": [
    "# Covid-19 tweets"
   ]
  },
  {
   "cell_type": "code",
   "execution_count": 1,
   "metadata": {
    "ExecuteTime": {
     "end_time": "2020-08-15T17:22:38.518710Z",
     "start_time": "2020-08-15T17:22:38.038276Z"
    }
   },
   "outputs": [],
   "source": [
    "import os, datetime\n",
    "import numpy as np\n",
    "import pandas as pd\n",
    "import matplotlib.pyplot as plt\n",
    "from matplotlib.font_manager import FontProperties\n",
    "import seaborn as sns\n",
    "import scipy.stats as stats\n",
    "\n",
    "plt.rcParams[\"font.family\"] = \"CMU Bright\"\n",
    "\n",
    "colors = {'blue':'#00274C','teal':'#3B7EA1',\n",
    "          'lavender':'#946eb7','crimson':'#8c1515',\n",
    "          'orange':'#e77500','green':'#0c5449'}\n",
    "\n",
    "golden = (1 + 5 ** 0.5) / 2"
   ]
  },
  {
   "cell_type": "markdown",
   "metadata": {},
   "source": [
    "#### improv"
   ]
  },
  {
   "cell_type": "code",
   "execution_count": 5,
   "metadata": {
    "ExecuteTime": {
     "end_time": "2020-08-15T17:23:41.644183Z",
     "start_time": "2020-08-15T17:23:41.222179Z"
    }
   },
   "outputs": [
    {
     "data": {
      "text/plain": [
       "Index(['retweet_count', 'created_at', 'text', 'coordinates', 'user_loc',\n",
       "       'user_lat', 'user_lon', 'user_loc_display', 'id', 'source', 'state',\n",
       "       'vader', 'flair'],\n",
       "      dtype='object')"
      ]
     },
     "execution_count": 5,
     "metadata": {},
     "output_type": "execute_result"
    }
   ],
   "source": [
    " yy = pd.read_csv('data/sentiments_2020-07.csv',low_memory=False,nrows=2,index_col=False, usecols=['retweet_count', 'created_at', 'text', 'coordinates',\n",
    "        'user_loc', 'user_lat', 'user_lon', 'user_loc_display', 'id', 'source',\n",
    "        'state', 'vader', 'flair'])\n",
    "\n",
    "xx = pd.read_csv('data/xxx2020-08.csv',low_memory=False,usecols=yy.columns)\n",
    "xx.columns\n",
    "# print(xx.shape)\n",
    "\n",
    "# xx.query(\"state!='state'\",inplace=True)\n",
    "\n",
    "# print(xx.shape)\n",
    "\n",
    "# xx.to_csv('data/sentiments_2020-08.csv',index=False,header=True)"
   ]
  },
  {
   "cell_type": "markdown",
   "metadata": {},
   "source": [
    "#### not improv"
   ]
  },
  {
   "cell_type": "code",
   "execution_count": 6,
   "metadata": {
    "ExecuteTime": {
     "end_time": "2020-08-15T17:23:55.153656Z",
     "start_time": "2020-08-15T17:23:53.231668Z"
    }
   },
   "outputs": [
    {
     "name": "stdout",
     "output_type": "stream",
     "text": [
      "Dropping 6 rows with NaN for sentiment scores\n"
     ]
    }
   ],
   "source": [
    "cols = ['id','created_at','source','state','vader','flair']\n",
    "# other possible columns:\n",
    "#  'retweet_count', 'user_loc_display', 'text','coordinates', 'user_loc',\n",
    "#  'user_lat', 'user_lon', 'user_loc_display'\n",
    "\n",
    "df = pd.DataFrame(columns=cols)\n",
    "\n",
    "for file_name in os.listdir('data/'):\n",
    "    if 'sentiments_' in file_name:\n",
    "        df = pd.concat(\n",
    "            [df,pd.read_csv('data/'+file_name,low_memory=False,usecols=cols)]\n",
    "        )\n",
    "\n",
    "n = df.shape[0]\n",
    "df = df[~(df['vader'].isna()|df['flair'].isna())].copy()\n",
    "print(f'Dropping {n - df.shape[0]} rows with NaN for sentiment scores')"
   ]
  },
  {
   "cell_type": "markdown",
   "metadata": {
    "heading_collapsed": true
   },
   "source": [
    "## Data visualization"
   ]
  },
  {
   "cell_type": "code",
   "execution_count": null,
   "metadata": {
    "ExecuteTime": {
     "end_time": "2020-08-15T17:22:39.185135Z",
     "start_time": "2020-08-15T17:22:38.202Z"
    },
    "hidden": true
   },
   "outputs": [],
   "source": [
    "state_counts = df['state'].value_counts(normalize=False).sort_values(ascending=False)\n",
    "\n",
    "fig, ax = plt.subplots(figsize=(10,10/golden**2))\n",
    "\n",
    "ax.bar(state_counts.index, state_counts.values, align='center',width=0.7,color=colors['blue'])\n",
    "#ax.set_yticklabels(people)\n",
    "ax.set_ylabel('number of Tweets')\n",
    "ax.set_title('Number of Tweets in database by state ')\n",
    "plt.xticks(rotation=90)\n",
    "plt.savefig('tweets_by_state.png',bbox_inches='tight')\n",
    "plt.show()"
   ]
  },
  {
   "cell_type": "code",
   "execution_count": null,
   "metadata": {
    "ExecuteTime": {
     "end_time": "2020-08-15T17:22:39.185592Z",
     "start_time": "2020-08-15T17:22:38.204Z"
    },
    "hidden": true
   },
   "outputs": [],
   "source": [
    "topn = 15\n",
    "\n",
    "data_sources = df['source'].value_counts(normalize=True).sort_values(ascending=False)\n",
    "\n",
    "top_sources = data_sources.iloc[:topn]\n",
    "\n",
    "\n",
    "\n",
    "top_sources[f'::other {data_sources.iloc[topn:].shape[0]} sources::'] = data_sources.iloc[20:].sum()\n",
    "\n",
    "fig, ax = plt.subplots(figsize=(8,8/golden**2))\n",
    "ax.bar(top_sources.index, top_sources.values, align='center',color=colors['teal'])\n",
    "ax.set_ylabel('number of tweets')\n",
    "ax.set_title(f'Top {topn} sources for tweets')\n",
    "plt.xticks(rotation=90)\n",
    "plt.savefig('tweets_by_source.png',bbox_inches='tight')\n",
    "plt.show()"
   ]
  },
  {
   "cell_type": "markdown",
   "metadata": {},
   "source": [
    "## calculation"
   ]
  },
  {
   "cell_type": "code",
   "execution_count": null,
   "metadata": {
    "ExecuteTime": {
     "end_time": "2020-08-15T17:22:39.186101Z",
     "start_time": "2020-08-15T17:22:38.259Z"
    }
   },
   "outputs": [],
   "source": [
    "df['vader zscore']= stats.zscore(df['vader'],nan_policy='omit')\n",
    "df['flair zscore']= stats.zscore(df['flair'],nan_policy='omit')\n",
    "\n",
    "df['aggregate']= df['vader zscore']+df['flair zscore']\n",
    "\n",
    "df['dayofyear'] = pd.to_datetime(df['created_at']).dt.dayofyear\n",
    "\n",
    "\n",
    "def doy_to_date(dayofyear):\n",
    "    return datetime.datetime.strptime('2020 '+str(dayofyear), '%Y %j').strftime('%b %d')\n"
   ]
  },
  {
   "cell_type": "code",
   "execution_count": null,
   "metadata": {
    "ExecuteTime": {
     "end_time": "2020-08-15T17:22:39.186693Z",
     "start_time": "2020-08-15T17:22:38.261Z"
    }
   },
   "outputs": [],
   "source": [
    "df['flair zscore'].hist(color=colors['orange'])"
   ]
  },
  {
   "cell_type": "code",
   "execution_count": null,
   "metadata": {
    "ExecuteTime": {
     "end_time": "2020-08-15T17:22:39.187252Z",
     "start_time": "2020-08-15T17:22:38.263Z"
    },
    "scrolled": true
   },
   "outputs": [],
   "source": [
    "df['vader zscore'].hist(color=colors['crimson'])"
   ]
  },
  {
   "cell_type": "code",
   "execution_count": null,
   "metadata": {
    "ExecuteTime": {
     "end_time": "2020-08-15T17:22:39.187810Z",
     "start_time": "2020-08-15T17:22:38.264Z"
    }
   },
   "outputs": [],
   "source": [
    "df['aggregate'].hist()"
   ]
  },
  {
   "cell_type": "code",
   "execution_count": null,
   "metadata": {
    "ExecuteTime": {
     "end_time": "2020-08-15T17:22:39.188472Z",
     "start_time": "2020-08-15T17:22:38.266Z"
    },
    "scrolled": true
   },
   "outputs": [],
   "source": [
    "stats.spearmanr(df['vader zscore'].values,df['flair zscore'].values)"
   ]
  },
  {
   "cell_type": "markdown",
   "metadata": {},
   "source": [
    "## plotting covid twitter sentiment from top 8 states with most tweets"
   ]
  },
  {
   "cell_type": "code",
   "execution_count": null,
   "metadata": {
    "ExecuteTime": {
     "end_time": "2020-08-15T17:22:39.188993Z",
     "start_time": "2020-08-15T17:22:38.322Z"
    },
    "scrolled": false
   },
   "outputs": [],
   "source": [
    "# choose 1 metric\n",
    "metrics = ['vader zscore','flair zscore','aggregate']\n",
    "metric = metrics[0]\n",
    "\n",
    "fig, ax = plt.subplots(figsize=(14, 7))\n",
    "\n",
    "\n",
    "df_temp = df[['state',metric,'dayofyear']].groupby(['state','dayofyear']).mean()\n",
    "\n",
    "sentiment_by_day_and_state = df_temp.reset_index()\\\n",
    "    .pivot(index='state',columns='dayofyear',values=metric)\n",
    "\n",
    "\n",
    "ax.spines['right'].set_visible(False)\n",
    "ax.spines['top'].set_visible(False)\n",
    "\n",
    "\n",
    "for state in state_counts.index[:5]:\n",
    "    st_data = sentiment_by_day_and_state.loc[state]\n",
    "    ax.plot(st_data.index, st_data.values,'-',lw=2,alpha=0.9,label=state)\n",
    "\n",
    "overall = df[['dayofyear',metric]].groupby('dayofyear').mean()\n",
    "ax.plot(overall.index,overall.values,'-',\n",
    "        lw=9,color=colors['blue'],alpha=0.2,\n",
    "        label='All states')\n",
    "\n",
    "#spl = UnivariateSpline(overall.index, overall.values)\n",
    "#spl.set_smoothing_factor(1.5)\n",
    "#xs = np.linspace(min(overall.index),max(overall.index),100)\n",
    "#plt.plot(xs, spl(xs), 'b', lw=20,alpha=0.1,label='\\n    All states\\n')\n",
    "\n",
    "ticks = list(sentiment_by_day_and_state.loc['Michigan'].index)[::7]\n",
    "\n",
    "\n",
    "fontP = FontProperties()\n",
    "fontP.set_size('large')\n",
    "ax.legend(bbox_to_anchor=(1.01, 1),prop=fontP)\n",
    "\n",
    "\n",
    "\n",
    "def custom_annotation(text, dayofyear,\n",
    "                      textheight = ax.get_ylim()[0]*0.85,\n",
    "                      tipheight  = ax.get_ylim()[1]*0.85):    \n",
    "    ax.annotate(text+'\\n'+doy_to_date(dayofyear), \n",
    "                xy=(dayofyear, tipheight), \n",
    "                xytext=(dayofyear, textheight),\n",
    "                arrowprops=dict(facecolor='black', alpha=0.25,width=0.05,\n",
    "                                headwidth=0.05,headlength=1,shrink=0.01),\n",
    "                horizontalalignment='center',verticalalignment='center'\n",
    "               )\n",
    "\n",
    "valley,peak = [0.85*x for x in ax.get_ylim()]\n",
    "#custom_annotation('federal stimulus\\npassed', 87)\n",
    "custom_annotation('small business\\nstimulus passed',114)\n",
    "#custom_annotation('',124)\n",
    "#custom_annotation('',147,textheight=peak,tipheight=valley)\n",
    "custom_annotation('Father\\'s Day,\\nTrump Tulsa rally',173)\n",
    "\n",
    "\n",
    "plt.xticks(ticks=ticks,labels = [doy_to_date(tick) for tick in ticks],rotation=90)\n",
    "plt.ylabel(f'average sentiment, {metric}')\n",
    "plt.title('Sentiment for Coronavirus Tweets for Top 5 States with Most Tweets')\n",
    "\n",
    "plt.show()"
   ]
  },
  {
   "cell_type": "code",
   "execution_count": null,
   "metadata": {
    "ExecuteTime": {
     "end_time": "2020-08-15T17:22:39.189505Z",
     "start_time": "2020-08-15T17:22:38.324Z"
    }
   },
   "outputs": [],
   "source": [
    "# color_dict = {'New York':'#57068c','Texas':'#BF5700',\n",
    "#               'California':'#003262','Illinois':'#E84A27','Florida':'#005030'}"
   ]
  },
  {
   "cell_type": "code",
   "execution_count": null,
   "metadata": {
    "ExecuteTime": {
     "end_time": "2020-08-15T17:22:39.190016Z",
     "start_time": "2020-08-15T17:22:38.326Z"
    }
   },
   "outputs": [],
   "source": [
    "# choose 1 metric\n",
    "\n",
    "# plotting\n",
    "\n",
    "def doy_to_date(dayofyear):\n",
    "    return datetime.datetime.strptime('2020 '+str(dayofyear), '%Y %j').strftime('%b %d')\n",
    "\n",
    "\n",
    "fig, axs = plt.subplots(2,sharex=False,figsize=(14, 14/golden))\n",
    "\n",
    "plt.setp(axs,xticks=ticks,xticklabels = [doy_to_date(tick) for tick in ticks])\n",
    "\n",
    "plt.xticks(rotation=90)\n",
    "\n",
    "metrics = ['vader zscore','flair zscore','aggregate']\n",
    "\n",
    "for i in range(2):\n",
    "    \n",
    "    metric = metrics[i]\n",
    "    ax = axs[i]\n",
    "    \n",
    "    ax.tick_params(axis=\"x\", rotation=90) \n",
    "\n",
    "    df_temp = df[['state',metric,'dayofyear']].groupby(['state','dayofyear']).mean()\n",
    "\n",
    "    sentiment_by_day_and_state = df_temp.reset_index()\\\n",
    "        .pivot(index='state',columns='dayofyear',values=metric)\n",
    "\n",
    "    ax.spines['right'].set_visible(False)\n",
    "    ax.spines['top'].set_visible(False)\n",
    "\n",
    "    for state in state_counts.index[:5]:\n",
    "        st_data = sentiment_by_day_and_state.loc[state]\n",
    "        ax.plot(st_data.index, st_data.values,'-',lw=2,alpha=0.9,label=state)\n",
    "\n",
    "    overall = df[['dayofyear',metric]].groupby('dayofyear').mean()\n",
    "    ax.plot(overall.index,overall.values,'-',\n",
    "            lw=9,color=colors['blue'],alpha=0.2,\n",
    "            label='All states')\n",
    "\n",
    "    ticks = list(sentiment_by_day_and_state.loc['Michigan'].index)[::7]\n",
    "\n",
    "    fontP = FontProperties()\n",
    "    fontP.set_size('large')\n",
    "    \n",
    "    if i==0:\n",
    "        ax.legend(bbox_to_anchor=(0.8, 0.8),prop=fontP)\n",
    "\n",
    "\n",
    "#     def custom_annotation(text, dayofyear,\n",
    "#                           textheight = ax.get_ylim()[0]*0.85,\n",
    "#                           tipheight  = ax.get_ylim()[1]*0.85):    \n",
    "#         ax.annotate(text+'\\n'+doy_to_date(dayofyear), \n",
    "#                     xy=(dayofyear, tipheight), \n",
    "#                     xytext=(dayofyear, textheight),\n",
    "#                     arrowprops=dict(facecolor='black', alpha=0.25,width=0.05,\n",
    "#                                     headwidth=0.05,headlength=1,shrink=0.01),\n",
    "#                     horizontalalignment='center',verticalalignment='center'\n",
    "#                    )\n",
    "\n",
    "#     valley,peak = [0.85*x for x in ax.get_ylim()]\n",
    "#     #custom_annotation('federal stimulus\\npassed', 87)\n",
    "#     custom_annotation('small business\\nstimulus passed',114)\n",
    "#     #custom_annotation('',124)\n",
    "#     #custom_annotation('',147,textheight=peak,tipheight=valley)\n",
    "#     custom_annotation('Father\\'s Day,\\nTrump Tulsa rally',173)\n",
    "\n",
    "    ax.set(ylabel=f'average sentiment, {metric}')\n",
    "\n",
    "\n",
    "plt.suptitle('Sentiment for Coronavirus Tweets for Top 5 States with Most Tweets')\n",
    "    \n",
    "plt.show()"
   ]
  },
  {
   "cell_type": "markdown",
   "metadata": {},
   "source": [
    "## Red, Blue, Swing"
   ]
  },
  {
   "cell_type": "code",
   "execution_count": null,
   "metadata": {
    "ExecuteTime": {
     "end_time": "2020-08-15T17:22:39.190486Z",
     "start_time": "2020-08-15T17:22:38.381Z"
    }
   },
   "outputs": [],
   "source": [
    "# via https://en.wikipedia.org/wiki/2016_United_States_presidential_election\n",
    "# swing states have margin within 5.5% in the 2016 election\n",
    "blue = ['Hawaii', 'California', 'Massachusetts', 'Maryland', \n",
    "        'Vermont', 'New York', 'Illinois', 'Washington', 'Rhode Island', \n",
    "        'New Jersey', 'Connecticut', 'Delaware', 'Oregon', 'New Mexico']\n",
    "swing = ['Virginia', 'Colorado', 'Maine', 'Nevada', 'Minnesota', \n",
    "         'New Hampshire', 'Michigan', 'Pennsylvania', 'Wisconsin',\n",
    "         'Florida', 'Arizona', 'North Carolina', 'Georgia']\n",
    "red = ['Wyoming', 'Indiana', 'Nebraska', 'Tennessee', 'Kentucky',\n",
    "       'Ohio', 'Mississippi', 'Oklahoma', 'South Dakota', 'Idaho',\n",
    "       'West Virginia', 'Utah', 'Alabama', 'Montana', 'Alaska', 'Texas',\n",
    "       'Kansas', 'Iowa', 'North Dakota', 'South Carolina', 'Arkansas',\n",
    "       'Louisiana', 'Missouri']\n",
    "\n",
    "assert len(set(blue)|set(swing)|set(red))==50\n",
    "\n",
    "df['politics'] = None\n",
    "df.loc[df['state'].isin(swing),'politics'] = 'swing'\n",
    "df.loc[df['state'].isin(red),'politics'] = 'red'\n",
    "df.loc[df['state'].isin(blue),'politics'] = 'blue'\n",
    "\n",
    "peaks = {}\n",
    "\n",
    "for pol in ['red','blue']:\n",
    "    for metric in ['flair','vader']:\n",
    "        overall = df[df['politics']==pol][['dayofyear',f'{metric} zscore']].groupby('dayofyear').mean().rolling(3).mean()\n",
    "        peaks[pol+'/'+metric] = overall[(overall==overall.rolling(7).max()).values].index\n",
    "    peaks[pol] = list(set(peaks[f'{pol}/flair'])&set(peaks[f'{pol}/vader']))\n",
    "\n",
    "print(\n",
    "    \"7-day rolling peak sentiment shared by both flair and vader:\",\n",
    "    \"\\nfor  red states:\", len(peaks['red']),\n",
    "    \"\\nfor blue states:\", len(peaks['blue'])\n",
    ")"
   ]
  },
  {
   "cell_type": "code",
   "execution_count": null,
   "metadata": {
    "ExecuteTime": {
     "end_time": "2020-08-15T17:22:39.191013Z",
     "start_time": "2020-08-15T17:22:38.383Z"
    }
   },
   "outputs": [],
   "source": [
    "df['politics'].value_counts()"
   ]
  },
  {
   "cell_type": "code",
   "execution_count": null,
   "metadata": {
    "ExecuteTime": {
     "end_time": "2020-08-15T16:00:07.979062Z",
     "start_time": "2020-08-15T16:00:07.968613Z"
    }
   },
   "outputs": [],
   "source": []
  },
  {
   "cell_type": "code",
   "execution_count": null,
   "metadata": {
    "ExecuteTime": {
     "end_time": "2020-08-15T17:22:39.191528Z",
     "start_time": "2020-08-15T17:22:38.385Z"
    },
    "scrolled": false
   },
   "outputs": [],
   "source": [
    "ticks = sorted(df['dayofyear'].unique())[::7]\n",
    "\n",
    "fig, axs = plt.subplots(2,sharex=False,figsize=(14, 14/golden))\n",
    "\n",
    "plt.setp(axs,xticks=ticks,xticklabels = [doy_to_date(tick) for tick in ticks])\n",
    "\n",
    "plt.xticks(rotation=90)\n",
    "\n",
    "metrics = ['vader zscore','flair zscore']\n",
    "\n",
    "for i in range(2):\n",
    "    \n",
    "    metric = metrics[i]\n",
    "    ax = axs[i]\n",
    "    \n",
    "    ax.tick_params(axis=\"x\", rotation=90)\n",
    "    \n",
    "    df_temp = df[['politics',metric,'dayofyear']].groupby(['politics','dayofyear']).mean()\n",
    "\n",
    "    sentiment_by_day_and_pol = df_temp.reset_index()\\\n",
    "        .pivot(index='politics',columns='dayofyear',values=metric)\n",
    "\n",
    "    ax.spines['right'].set_visible(False)\n",
    "    ax.spines['top'].set_visible(False)\n",
    "\n",
    "    for pol in ['red','swing','blue']:\n",
    "        color = pol\n",
    "        if pol == 'swing':\n",
    "            color = 'gray'\n",
    "        pol_data = sentiment_by_day_and_pol.loc[pol]\n",
    "        ax.plot(pol_data.index, pol_data.values,'-',lw=2,alpha=0.4,\n",
    "                label=pol,color=color)\n",
    "\n",
    "    overall = df[['dayofyear',metric]].groupby('dayofyear').mean().rolling(3).mean()\n",
    "    ax.plot(overall.index,overall.values,'-',\n",
    "            lw=6,color=colors['teal'],alpha=0.8,\n",
    "            label='All states')\n",
    "\n",
    "    ticks = list(sentiment_by_day_and_pol.loc['swing'].index)[::7]\n",
    "\n",
    "    fontP = FontProperties()\n",
    "    fontP.set_size('large')\n",
    "    \n",
    "    if i==0:\n",
    "        ax.legend(bbox_to_anchor=(0.8, 0.8),prop=fontP)\n",
    "\n",
    "    ax.set(ylabel=f'average sentiment, {metric}')\n",
    "    \n",
    "    def custom_annotation(text, dayofyear,\n",
    "                          textheight = ax.get_ylim()[0]*1,\n",
    "                          tipheight  = ax.get_ylim()[1]*1):    \n",
    "        ax.annotate(text,#+'\\n'+doy_to_date(dayofyear), \n",
    "                    xy=(dayofyear, tipheight), \n",
    "                    xytext=(dayofyear, textheight),\n",
    "                    arrowprops=dict(facecolor='black', alpha=0.25,width=0.05,\n",
    "                                    headwidth=0.05,headlength=1,shrink=0.01),\n",
    "                    horizontalalignment='center',verticalalignment='center'\n",
    "                   )\n",
    "    \n",
    "    for p in list(set(peaks['blue'])|set(peaks['red'])):\n",
    "        custom_annotation('',p)\n",
    "\n",
    "\n",
    "#plt.suptitle('Sentiment for Coronavirus Tweets for Top 5 States with Most Tweets')\n",
    "    \n",
    "plt.show()"
   ]
  },
  {
   "cell_type": "markdown",
   "metadata": {},
   "source": [
    "## Map"
   ]
  }
 ],
 "metadata": {
  "@webio": {
   "lastCommId": null,
   "lastKernelId": null
  },
  "kernelspec": {
   "display_name": "covidtweets",
   "language": "python",
   "name": "covidtweets"
  },
  "language_info": {
   "codemirror_mode": {
    "name": "ipython",
    "version": 3
   },
   "file_extension": ".py",
   "mimetype": "text/x-python",
   "name": "python",
   "nbconvert_exporter": "python",
   "pygments_lexer": "ipython3",
   "version": "3.8.3"
  },
  "toc": {
   "base_numbering": 1,
   "nav_menu": {},
   "number_sections": true,
   "sideBar": true,
   "skip_h1_title": false,
   "title_cell": "Table of Contents",
   "title_sidebar": "Contents",
   "toc_cell": false,
   "toc_position": {},
   "toc_section_display": true,
   "toc_window_display": false
  }
 },
 "nbformat": 4,
 "nbformat_minor": 4
}
